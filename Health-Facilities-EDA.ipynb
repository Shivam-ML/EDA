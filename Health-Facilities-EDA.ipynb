{
 "cells": [
  {
   "cell_type": "markdown",
   "metadata": {},
   "source": [
    "# Health-care Data EDA\n",
    "## Understand hidden information from your dataset "
   ]
  },
  {
   "cell_type": "code",
   "execution_count": 53,
   "metadata": {
    "collapsed": true
   },
   "outputs": [],
   "source": [
    "import pandas as pd\n",
    "import numpy as np\n",
    "import matplotlib\n",
    "%matplotlib inline"
   ]
  },
  {
   "cell_type": "markdown",
   "metadata": {},
   "source": [
    "## Loading data "
   ]
  },
  {
   "cell_type": "code",
   "execution_count": 2,
   "metadata": {
    "collapsed": true
   },
   "outputs": [],
   "source": [
    "health_gh_data = pd.read_csv(\"dataset/health-facilities-gh.csv\")\n",
    "health_tiers_data = pd.read_csv(\"dataset/health-facility-tiers.csv\")"
   ]
  },
  {
   "cell_type": "markdown",
   "metadata": {},
   "source": [
    "## Check data format and details"
   ]
  },
  {
   "cell_type": "code",
   "execution_count": 3,
   "metadata": {},
   "outputs": [
    {
     "data": {
      "text/html": [
       "<div>\n",
       "<style scoped>\n",
       "    .dataframe tbody tr th:only-of-type {\n",
       "        vertical-align: middle;\n",
       "    }\n",
       "\n",
       "    .dataframe tbody tr th {\n",
       "        vertical-align: top;\n",
       "    }\n",
       "\n",
       "    .dataframe thead th {\n",
       "        text-align: right;\n",
       "    }\n",
       "</style>\n",
       "<table border=\"1\" class=\"dataframe\">\n",
       "  <thead>\n",
       "    <tr style=\"text-align: right;\">\n",
       "      <th></th>\n",
       "      <th>Region</th>\n",
       "      <th>District</th>\n",
       "      <th>FacilityName</th>\n",
       "      <th>Type</th>\n",
       "      <th>Town</th>\n",
       "      <th>Ownership</th>\n",
       "      <th>Latitude</th>\n",
       "      <th>Longitude</th>\n",
       "    </tr>\n",
       "  </thead>\n",
       "  <tbody>\n",
       "    <tr>\n",
       "      <th>0</th>\n",
       "      <td>Ashanti</td>\n",
       "      <td>Offinso North</td>\n",
       "      <td>A.M.E Zion Clinic</td>\n",
       "      <td>Clinic</td>\n",
       "      <td>Afrancho</td>\n",
       "      <td>CHAG</td>\n",
       "      <td>7.40801</td>\n",
       "      <td>-1.96317</td>\n",
       "    </tr>\n",
       "    <tr>\n",
       "      <th>1</th>\n",
       "      <td>Ashanti</td>\n",
       "      <td>Bekwai Municipal</td>\n",
       "      <td>Abenkyiman Clinic</td>\n",
       "      <td>Clinic</td>\n",
       "      <td>Anwiankwanta</td>\n",
       "      <td>Private</td>\n",
       "      <td>6.46312</td>\n",
       "      <td>-1.58592</td>\n",
       "    </tr>\n",
       "    <tr>\n",
       "      <th>2</th>\n",
       "      <td>Ashanti</td>\n",
       "      <td>Adansi North</td>\n",
       "      <td>Aboabo Health Centre</td>\n",
       "      <td>Health Centre</td>\n",
       "      <td>Aboabo No 2</td>\n",
       "      <td>Government</td>\n",
       "      <td>6.22393</td>\n",
       "      <td>-1.34982</td>\n",
       "    </tr>\n",
       "    <tr>\n",
       "      <th>3</th>\n",
       "      <td>Ashanti</td>\n",
       "      <td>Afigya-Kwabre</td>\n",
       "      <td>Aboabogya Health Centre</td>\n",
       "      <td>Health Centre</td>\n",
       "      <td>Aboabogya</td>\n",
       "      <td>Government</td>\n",
       "      <td>6.84177</td>\n",
       "      <td>-1.61098</td>\n",
       "    </tr>\n",
       "    <tr>\n",
       "      <th>4</th>\n",
       "      <td>Ashanti</td>\n",
       "      <td>Kwabre</td>\n",
       "      <td>Aboaso Health Centre</td>\n",
       "      <td>Health Centre</td>\n",
       "      <td>Aboaso</td>\n",
       "      <td>Government</td>\n",
       "      <td>6.84177</td>\n",
       "      <td>-1.61098</td>\n",
       "    </tr>\n",
       "  </tbody>\n",
       "</table>\n",
       "</div>"
      ],
      "text/plain": [
       "    Region          District             FacilityName           Type  \\\n",
       "0  Ashanti     Offinso North        A.M.E Zion Clinic         Clinic   \n",
       "1  Ashanti  Bekwai Municipal        Abenkyiman Clinic         Clinic   \n",
       "2  Ashanti      Adansi North     Aboabo Health Centre  Health Centre   \n",
       "3  Ashanti     Afigya-Kwabre  Aboabogya Health Centre  Health Centre   \n",
       "4  Ashanti            Kwabre     Aboaso Health Centre  Health Centre   \n",
       "\n",
       "           Town   Ownership  Latitude  Longitude  \n",
       "0      Afrancho        CHAG   7.40801   -1.96317  \n",
       "1  Anwiankwanta     Private   6.46312   -1.58592  \n",
       "2   Aboabo No 2  Government   6.22393   -1.34982  \n",
       "3     Aboabogya  Government   6.84177   -1.61098  \n",
       "4        Aboaso  Government   6.84177   -1.61098  "
      ]
     },
     "execution_count": 3,
     "metadata": {},
     "output_type": "execute_result"
    }
   ],
   "source": [
    "health_gh_data.head()"
   ]
  },
  {
   "cell_type": "code",
   "execution_count": 4,
   "metadata": {},
   "outputs": [
    {
     "name": "stdout",
     "output_type": "stream",
     "text": [
      "<class 'pandas.core.frame.DataFrame'>\n",
      "RangeIndex: 3756 entries, 0 to 3755\n",
      "Data columns (total 8 columns):\n",
      "Region          3756 non-null object\n",
      "District        3756 non-null object\n",
      "FacilityName    3756 non-null object\n",
      "Type            3756 non-null object\n",
      "Town            3603 non-null object\n",
      "Ownership       3756 non-null object\n",
      "Latitude        3732 non-null float64\n",
      "Longitude       3732 non-null float64\n",
      "dtypes: float64(2), object(6)\n",
      "memory usage: 234.8+ KB\n"
     ]
    }
   ],
   "source": [
    "health_gh_data.info()"
   ]
  },
  {
   "cell_type": "code",
   "execution_count": 10,
   "metadata": {},
   "outputs": [
    {
     "data": {
      "text/plain": [
       "Region            10\n",
       "District         171\n",
       "FacilityName    3544\n",
       "Type              25\n",
       "Town            2446\n",
       "Ownership         12\n",
       "Latitude        2845\n",
       "Longitude       2835\n",
       "dtype: int64"
      ]
     },
     "execution_count": 10,
     "metadata": {},
     "output_type": "execute_result"
    }
   ],
   "source": [
    "health_gh_data.nunique()"
   ]
  },
  {
   "cell_type": "code",
   "execution_count": 11,
   "metadata": {},
   "outputs": [
    {
     "data": {
      "text/plain": [
       "array(['Ashanti', 'Brong Ahafo', 'Central', 'Eastern', 'Greater Accra',\n",
       "       'Northern', 'Upper East', 'Upper West', 'Volta', 'Western'],\n",
       "      dtype=object)"
      ]
     },
     "execution_count": 11,
     "metadata": {},
     "output_type": "execute_result"
    }
   ],
   "source": [
    "health_gh_data.Region.unique()"
   ]
  },
  {
   "cell_type": "code",
   "execution_count": 24,
   "metadata": {},
   "outputs": [
    {
     "data": {
      "text/html": [
       "<div>\n",
       "<style scoped>\n",
       "    .dataframe tbody tr th:only-of-type {\n",
       "        vertical-align: middle;\n",
       "    }\n",
       "\n",
       "    .dataframe tbody tr th {\n",
       "        vertical-align: top;\n",
       "    }\n",
       "\n",
       "    .dataframe thead th {\n",
       "        text-align: right;\n",
       "    }\n",
       "</style>\n",
       "<table border=\"1\" class=\"dataframe\">\n",
       "  <thead>\n",
       "    <tr style=\"text-align: right;\">\n",
       "      <th></th>\n",
       "      <th>Latitude</th>\n",
       "      <th>Longitude</th>\n",
       "    </tr>\n",
       "  </thead>\n",
       "  <tbody>\n",
       "    <tr>\n",
       "      <th>count</th>\n",
       "      <td>3732.000000</td>\n",
       "      <td>3732.000000</td>\n",
       "    </tr>\n",
       "    <tr>\n",
       "      <th>mean</th>\n",
       "      <td>6.955678</td>\n",
       "      <td>-1.074580</td>\n",
       "    </tr>\n",
       "    <tr>\n",
       "      <th>std</th>\n",
       "      <td>1.679332</td>\n",
       "      <td>1.021352</td>\n",
       "    </tr>\n",
       "    <tr>\n",
       "      <th>min</th>\n",
       "      <td>4.796180</td>\n",
       "      <td>-3.235880</td>\n",
       "    </tr>\n",
       "    <tr>\n",
       "      <th>25%</th>\n",
       "      <td>5.687642</td>\n",
       "      <td>-1.809792</td>\n",
       "    </tr>\n",
       "    <tr>\n",
       "      <th>50%</th>\n",
       "      <td>6.468705</td>\n",
       "      <td>-1.058117</td>\n",
       "    </tr>\n",
       "    <tr>\n",
       "      <th>75%</th>\n",
       "      <td>7.430555</td>\n",
       "      <td>-0.215870</td>\n",
       "    </tr>\n",
       "    <tr>\n",
       "      <th>max</th>\n",
       "      <td>11.146670</td>\n",
       "      <td>1.191440</td>\n",
       "    </tr>\n",
       "  </tbody>\n",
       "</table>\n",
       "</div>"
      ],
      "text/plain": [
       "          Latitude    Longitude\n",
       "count  3732.000000  3732.000000\n",
       "mean      6.955678    -1.074580\n",
       "std       1.679332     1.021352\n",
       "min       4.796180    -3.235880\n",
       "25%       5.687642    -1.809792\n",
       "50%       6.468705    -1.058117\n",
       "75%       7.430555    -0.215870\n",
       "max      11.146670     1.191440"
      ]
     },
     "execution_count": 24,
     "metadata": {},
     "output_type": "execute_result"
    }
   ],
   "source": [
    "health_gh_data.describe()\n",
    "#health_gh_data.describe().transpose()\n",
    "#health_gh_data.describe(include=['object']).transpose()\n"
   ]
  },
  {
   "cell_type": "code",
   "execution_count": 27,
   "metadata": {},
   "outputs": [
    {
     "data": {
      "text/html": [
       "<div>\n",
       "<style scoped>\n",
       "    .dataframe tbody tr th:only-of-type {\n",
       "        vertical-align: middle;\n",
       "    }\n",
       "\n",
       "    .dataframe tbody tr th {\n",
       "        vertical-align: top;\n",
       "    }\n",
       "\n",
       "    .dataframe thead th {\n",
       "        text-align: right;\n",
       "    }\n",
       "</style>\n",
       "<table border=\"1\" class=\"dataframe\">\n",
       "  <thead>\n",
       "    <tr style=\"text-align: right;\">\n",
       "      <th></th>\n",
       "      <th>count</th>\n",
       "      <th>mean</th>\n",
       "      <th>std</th>\n",
       "      <th>min</th>\n",
       "      <th>25%</th>\n",
       "      <th>50%</th>\n",
       "      <th>75%</th>\n",
       "      <th>max</th>\n",
       "    </tr>\n",
       "  </thead>\n",
       "  <tbody>\n",
       "    <tr>\n",
       "      <th>Latitude</th>\n",
       "      <td>3732.0</td>\n",
       "      <td>6.955678</td>\n",
       "      <td>1.679332</td>\n",
       "      <td>4.79618</td>\n",
       "      <td>5.687642</td>\n",
       "      <td>6.468705</td>\n",
       "      <td>7.430555</td>\n",
       "      <td>11.14667</td>\n",
       "    </tr>\n",
       "    <tr>\n",
       "      <th>Longitude</th>\n",
       "      <td>3732.0</td>\n",
       "      <td>-1.074580</td>\n",
       "      <td>1.021352</td>\n",
       "      <td>-3.23588</td>\n",
       "      <td>-1.809792</td>\n",
       "      <td>-1.058117</td>\n",
       "      <td>-0.215870</td>\n",
       "      <td>1.19144</td>\n",
       "    </tr>\n",
       "  </tbody>\n",
       "</table>\n",
       "</div>"
      ],
      "text/plain": [
       "            count      mean       std      min       25%       50%       75%  \\\n",
       "Latitude   3732.0  6.955678  1.679332  4.79618  5.687642  6.468705  7.430555   \n",
       "Longitude  3732.0 -1.074580  1.021352 -3.23588 -1.809792 -1.058117 -0.215870   \n",
       "\n",
       "                max  \n",
       "Latitude   11.14667  \n",
       "Longitude   1.19144  "
      ]
     },
     "execution_count": 27,
     "metadata": {},
     "output_type": "execute_result"
    }
   ],
   "source": [
    "health_gh_data.describe().transpose()"
   ]
  },
  {
   "cell_type": "code",
   "execution_count": 25,
   "metadata": {},
   "outputs": [
    {
     "data": {
      "text/html": [
       "<div>\n",
       "<style scoped>\n",
       "    .dataframe tbody tr th:only-of-type {\n",
       "        vertical-align: middle;\n",
       "    }\n",
       "\n",
       "    .dataframe tbody tr th {\n",
       "        vertical-align: top;\n",
       "    }\n",
       "\n",
       "    .dataframe thead th {\n",
       "        text-align: right;\n",
       "    }\n",
       "</style>\n",
       "<table border=\"1\" class=\"dataframe\">\n",
       "  <thead>\n",
       "    <tr style=\"text-align: right;\">\n",
       "      <th></th>\n",
       "      <th>count</th>\n",
       "      <th>unique</th>\n",
       "      <th>top</th>\n",
       "      <th>freq</th>\n",
       "    </tr>\n",
       "  </thead>\n",
       "  <tbody>\n",
       "    <tr>\n",
       "      <th>Region</th>\n",
       "      <td>3756</td>\n",
       "      <td>10</td>\n",
       "      <td>Ashanti</td>\n",
       "      <td>658</td>\n",
       "    </tr>\n",
       "    <tr>\n",
       "      <th>District</th>\n",
       "      <td>3756</td>\n",
       "      <td>171</td>\n",
       "      <td>Accra Metropolitan</td>\n",
       "      <td>277</td>\n",
       "    </tr>\n",
       "    <tr>\n",
       "      <th>FacilityName</th>\n",
       "      <td>3756</td>\n",
       "      <td>3544</td>\n",
       "      <td>Rabito Clinic</td>\n",
       "      <td>11</td>\n",
       "    </tr>\n",
       "    <tr>\n",
       "      <th>Type</th>\n",
       "      <td>3756</td>\n",
       "      <td>25</td>\n",
       "      <td>Clinic</td>\n",
       "      <td>1171</td>\n",
       "    </tr>\n",
       "    <tr>\n",
       "      <th>Town</th>\n",
       "      <td>3603</td>\n",
       "      <td>2446</td>\n",
       "      <td>Sunyani</td>\n",
       "      <td>29</td>\n",
       "    </tr>\n",
       "    <tr>\n",
       "      <th>Ownership</th>\n",
       "      <td>3756</td>\n",
       "      <td>12</td>\n",
       "      <td>Government</td>\n",
       "      <td>2210</td>\n",
       "    </tr>\n",
       "  </tbody>\n",
       "</table>\n",
       "</div>"
      ],
      "text/plain": [
       "             count unique                 top  freq\n",
       "Region        3756     10             Ashanti   658\n",
       "District      3756    171  Accra Metropolitan   277\n",
       "FacilityName  3756   3544       Rabito Clinic    11\n",
       "Type          3756     25              Clinic  1171\n",
       "Town          3603   2446             Sunyani    29\n",
       "Ownership     3756     12          Government  2210"
      ]
     },
     "execution_count": 25,
     "metadata": {},
     "output_type": "execute_result"
    }
   ],
   "source": [
    "health_gh_data.describe(include=['object']).transpose()"
   ]
  },
  {
   "cell_type": "code",
   "execution_count": 15,
   "metadata": {},
   "outputs": [
    {
     "data": {
      "text/plain": [
       "Region            0\n",
       "District          0\n",
       "FacilityName      0\n",
       "Type              0\n",
       "Town            153\n",
       "Ownership         0\n",
       "Latitude         24\n",
       "Longitude        24\n",
       "dtype: int64"
      ]
     },
     "execution_count": 15,
     "metadata": {},
     "output_type": "execute_result"
    }
   ],
   "source": [
    "health_gh_data.isnull().sum()"
   ]
  },
  {
   "cell_type": "code",
   "execution_count": 16,
   "metadata": {},
   "outputs": [
    {
     "data": {
      "text/plain": [
       "Region            0\n",
       "District          0\n",
       "FacilityName      0\n",
       "Type              0\n",
       "Town            153\n",
       "Ownership         0\n",
       "Latitude         24\n",
       "Longitude        24\n",
       "dtype: int64"
      ]
     },
     "execution_count": 16,
     "metadata": {},
     "output_type": "execute_result"
    }
   ],
   "source": [
    "#we can also use isna to check null values\n",
    "health_gh_data.isna().sum()"
   ]
  },
  {
   "cell_type": "code",
   "execution_count": 44,
   "metadata": {
    "collapsed": true
   },
   "outputs": [],
   "source": [
    "# we have null values in Town , Latitude and Longitude \n",
    "# lets process the null values\n",
    "# we can fill Town as \"No-Town\" values\n",
    "health_gh_data['Town'].fillna(\"No-Town\",inplace=True)\n"
   ]
  },
  {
   "cell_type": "code",
   "execution_count": 46,
   "metadata": {},
   "outputs": [
    {
     "data": {
      "text/plain": [
       "Region           0\n",
       "District         0\n",
       "FacilityName     0\n",
       "Type             0\n",
       "Town             0\n",
       "Ownership        0\n",
       "Latitude        24\n",
       "Longitude       24\n",
       "dtype: int64"
      ]
     },
     "execution_count": 46,
     "metadata": {},
     "output_type": "execute_result"
    }
   ],
   "source": [
    "# we cant change Latitude and Longitude as 0,0 because it may change our mean ,SD values \n",
    "health_gh_data.isnull().sum()"
   ]
  },
  {
   "cell_type": "markdown",
   "metadata": {},
   "source": [
    "## Get some insights from dataset"
   ]
  },
  {
   "cell_type": "code",
   "execution_count": 47,
   "metadata": {},
   "outputs": [
    {
     "data": {
      "text/plain": [
       "Index(['Region', 'District', 'FacilityName', 'Type', 'Town', 'Ownership',\n",
       "       'Latitude', 'Longitude'],\n",
       "      dtype='object')"
      ]
     },
     "execution_count": 47,
     "metadata": {},
     "output_type": "execute_result"
    }
   ],
   "source": [
    "health_gh_data.columns"
   ]
  },
  {
   "cell_type": "code",
   "execution_count": 60,
   "metadata": {
    "collapsed": true
   },
   "outputs": [],
   "source": [
    "region_groups = health_gh_data.groupby(['Region'])['Region'].count().reset_index(name = \"count\")"
   ]
  },
  {
   "cell_type": "code",
   "execution_count": 61,
   "metadata": {},
   "outputs": [
    {
     "data": {
      "text/html": [
       "<div>\n",
       "<style scoped>\n",
       "    .dataframe tbody tr th:only-of-type {\n",
       "        vertical-align: middle;\n",
       "    }\n",
       "\n",
       "    .dataframe tbody tr th {\n",
       "        vertical-align: top;\n",
       "    }\n",
       "\n",
       "    .dataframe thead th {\n",
       "        text-align: right;\n",
       "    }\n",
       "</style>\n",
       "<table border=\"1\" class=\"dataframe\">\n",
       "  <thead>\n",
       "    <tr style=\"text-align: right;\">\n",
       "      <th></th>\n",
       "      <th>Region</th>\n",
       "      <th>count</th>\n",
       "    </tr>\n",
       "  </thead>\n",
       "  <tbody>\n",
       "    <tr>\n",
       "      <th>0</th>\n",
       "      <td>Ashanti</td>\n",
       "      <td>658</td>\n",
       "    </tr>\n",
       "    <tr>\n",
       "      <th>1</th>\n",
       "      <td>Brong Ahafo</td>\n",
       "      <td>348</td>\n",
       "    </tr>\n",
       "    <tr>\n",
       "      <th>2</th>\n",
       "      <td>Central</td>\n",
       "      <td>299</td>\n",
       "    </tr>\n",
       "    <tr>\n",
       "      <th>3</th>\n",
       "      <td>Eastern</td>\n",
       "      <td>393</td>\n",
       "    </tr>\n",
       "    <tr>\n",
       "      <th>4</th>\n",
       "      <td>Greater Accra</td>\n",
       "      <td>504</td>\n",
       "    </tr>\n",
       "    <tr>\n",
       "      <th>5</th>\n",
       "      <td>Northern</td>\n",
       "      <td>267</td>\n",
       "    </tr>\n",
       "    <tr>\n",
       "      <th>6</th>\n",
       "      <td>Upper East</td>\n",
       "      <td>232</td>\n",
       "    </tr>\n",
       "    <tr>\n",
       "      <th>7</th>\n",
       "      <td>Upper West</td>\n",
       "      <td>161</td>\n",
       "    </tr>\n",
       "    <tr>\n",
       "      <th>8</th>\n",
       "      <td>Volta</td>\n",
       "      <td>398</td>\n",
       "    </tr>\n",
       "    <tr>\n",
       "      <th>9</th>\n",
       "      <td>Western</td>\n",
       "      <td>496</td>\n",
       "    </tr>\n",
       "  </tbody>\n",
       "</table>\n",
       "</div>"
      ],
      "text/plain": [
       "          Region  count\n",
       "0        Ashanti    658\n",
       "1    Brong Ahafo    348\n",
       "2        Central    299\n",
       "3        Eastern    393\n",
       "4  Greater Accra    504\n",
       "5       Northern    267\n",
       "6     Upper East    232\n",
       "7     Upper West    161\n",
       "8          Volta    398\n",
       "9        Western    496"
      ]
     },
     "execution_count": 61,
     "metadata": {},
     "output_type": "execute_result"
    }
   ],
   "source": [
    "region_groups"
   ]
  },
  {
   "cell_type": "code",
   "execution_count": 86,
   "metadata": {},
   "outputs": [
    {
     "data": {
      "text/plain": [
       "<matplotlib.axes._subplots.AxesSubplot at 0x1dc2f7142e8>"
      ]
     },
     "execution_count": 86,
     "metadata": {},
     "output_type": "execute_result"
    },
    {
     "data": {
      "image/png": "[encoded data removed]",
      "text/plain": [
       "<Figure size 432x288 with 1 Axes>"
      ]
     },
     "metadata": {
      "needs_background": "light"
     },
     "output_type": "display_data"
    }
   ],
   "source": [
    "region_groups.plot.bar(x = 'Region',y = 'count')"
   ]
  },
  {
   "cell_type": "code",
   "execution_count": 72,
   "metadata": {},
   "outputs": [
    {
     "data": {
      "text/plain": [
       "['Ashanti',\n",
       " 'Brong Ahafo',\n",
       " 'Central',\n",
       " 'Eastern',\n",
       " 'Greater Accra',\n",
       " 'Northern',\n",
       " 'Upper East',\n",
       " 'Upper West',\n",
       " 'Volta',\n",
       " 'Western']"
      ]
     },
     "execution_count": 72,
     "metadata": {},
     "output_type": "execute_result"
    }
   ],
   "source": [
    "list(region_groups['Region'])"
   ]
  },
  {
   "cell_type": "code",
   "execution_count": null,
   "metadata": {
    "collapsed": true
   },
   "outputs": [],
   "source": []
  },
  {
   "cell_type": "code",
   "execution_count": null,
   "metadata": {
    "collapsed": true
   },
   "outputs": [],
   "source": []
  }
 ],
 "metadata": {
  "kernelspec": {
   "display_name": "Python 3",
   "language": "python",
   "name": "python3"
  },
  "language_info": {
   "codemirror_mode": {
    "name": "ipython",
    "version": 3
   },
   "file_extension": ".py",
   "mimetype": "text/x-python",
   "name": "python",
   "nbconvert_exporter": "python",
   "pygments_lexer": "ipython3",
   "version": "3.6.3"
  }
 },
 "nbformat": 4,
 "nbformat_minor": 2
}
